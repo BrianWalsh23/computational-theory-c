{
 "cells": [
  {
   "cell_type": "markdown",
   "id": "a33755af",
   "metadata": {},
   "source": [
    "# Computational Theory Assessment"
   ]
  },
  {
   "cell_type": "code",
   "execution_count": 28,
   "id": "533edfcd",
   "metadata": {},
   "outputs": [],
   "source": [
    "import numpy as np"
   ]
  },
  {
   "cell_type": "markdown",
   "id": "a52bf3b8",
   "metadata": {},
   "source": [
    "## Problem 1: Binary Words and Operations\n"
   ]
  },
  {
   "cell_type": "code",
   "execution_count": null,
   "id": "d1c3e6e1",
   "metadata": {},
   "outputs": [],
   "source": [
    "U32 = np.uint32  # Unasigned 32-bit int\n",
    "\n",
    "def Parity(x: np.uint32, y: np.uint32, z: np.uint32) -> np.uint32:\n",
    "    \"\"\"\n",
    "    Compute the bitwise parity of three 32-bit words.\n",
    "\n",
    "    Each output bit is 1 if an odd number of the corresponding input bits are 1.\n",
    "    Equivalent to: x ^ y ^ z\n",
    "\n",
    "    Args:\n",
    "        x, y, z (np.uint32 or int): Input 32-bit words.\n",
    "\n",
    "    Returns:\n",
    "        np.uint32: Result of parity(x, y, z).\n",
    "\n",
    "    References:\n",
    "        - National Institute of Standards and Technology. Secure Hash Standard (SHS),\n",
    "          FIPS PUB 180-4, 2015. §4.1.2.\n",
    "          https://nvlpubs.nist.gov/nistpubs/FIPS/NIST.FIPS.180-4.pdf\n",
    "        - Menezes, A., van Oorschot, P., & Vanstone, S. (1996).\n",
    "          *Handbook of Applied Cryptography*, CRC Press.\n",
    "          Chapter 9: Hash Functions and Data Integrity.\n",
    "          https://cacr.uwaterloo.ca/hac/\n",
    "    \"\"\"\n",
    "    return U32(x) ^ U32(y) ^ U32(z)"
   ]
  },
  {
   "cell_type": "code",
   "execution_count": null,
   "id": "36517378",
   "metadata": {},
   "outputs": [
    {
     "name": "stdout",
     "output_type": "stream",
     "text": [
      "x      : 0b1010\n",
      "y      : 0b1100\n",
      "z      : 0b110\n",
      "Parity : 0b0\n"
     ]
    }
   ],
   "source": [
    "# Example test for the Parity function\n",
    "x, y, z = U32(0b1010), U32(0b1100), U32(0b0110)\n",
    "\n",
    "print(\"x      :\", bin(int(x)))\n",
    "print(\"y      :\", bin(int(y)))\n",
    "print(\"z      :\", bin(int(z)))\n",
    "print(\"Parity :\", bin(int(Parity(x,y,z))))  # expected: 0b0 (since XOR cancels all bits)\n",
    "\n"
   ]
  },
  {
   "cell_type": "code",
   "execution_count": null,
   "id": "88dc15ad",
   "metadata": {},
   "outputs": [],
   "source": [
    "U32 = np.uint32  # 32-bit unsigned integer type\n",
    "\n",
    "def Ch(x: np.uint32, y: np.uint32, z: np.uint32) -> np.uint32:\n",
    "    \"\"\"\n",
    "\n",
    "    For each bit position, output the bit from y if the corresponding bit of x is 1,\n",
    "    otherwise the bit from z.\n",
    "\n",
    "    Equivalent to: (x & y) ^ (~x & z)\n",
    "\n",
    "    Args:\n",
    "        x, y, z (np.uint32 or int): Input 32-bit words.\n",
    "\n",
    "    Returns:\n",
    "        np.uint32: Result of Ch(x, y, z).\n",
    "\n",
    "    References:\n",
    "        - National Institute of Standards and Technology. Secure Hash Standard (SHS),\n",
    "          FIPS PUB 180-4, 2015. §4.1.2.\n",
    "          https://nvlpubs.nist.gov/nistpubs/FIPS/NIST.FIPS.180-4.pdf\n",
    "        - Menezes, A., van Oorschot, P., & Vanstone, S. (1996).\n",
    "          *Handbook of Applied Cryptography*, CRC Press.\n",
    "          Chapter 9: Hash Functions and Data Integrity.\n",
    "          https://cacr.uwaterloo.ca/hac/\n",
    "    \"\"\"\n",
    "    x, y, z = U32(x), U32(y), U32(z)\n",
    "    return U32((x & y) ^ (~x & z))"
   ]
  },
  {
   "cell_type": "code",
   "execution_count": null,
   "id": "2ee9b365",
   "metadata": {},
   "outputs": [
    {
     "name": "stdout",
     "output_type": "stream",
     "text": [
      "x: 0b11110000\n",
      "y: 0b10101010\n",
      "z: 0b1010101\n",
      "Ch(x, y, z): 0b10100101\n"
     ]
    }
   ],
   "source": [
    "# Example test for the Choose function (Ch)\n",
    "\n",
    "x = U32(0b11110000)\n",
    "y = U32(0b10101010)\n",
    "z = U32(0b01010101)\n",
    "\n",
    "print(\"x:\", bin(int(x)))\n",
    "print(\"y:\", bin(int(y)))\n",
    "print(\"z:\", bin(int(z)))\n",
    "print(\"Ch(x, y, z):\", bin(int(Ch(x, y, z))))\n"
   ]
  },
  {
   "cell_type": "markdown",
   "id": "a8e1b144",
   "metadata": {},
   "source": [
    "## Problem 2: Fractional Parts of Cube Roots"
   ]
  },
  {
   "cell_type": "markdown",
   "id": "7c10632a",
   "metadata": {},
   "source": [
    "## Problem 3: Padding"
   ]
  },
  {
   "cell_type": "markdown",
   "id": "182414e5",
   "metadata": {},
   "source": [
    "## Problem 4: Hashes"
   ]
  },
  {
   "cell_type": "markdown",
   "id": "3a4e45bf",
   "metadata": {},
   "source": [
    "## Problem 5: Passwords\n"
   ]
  }
 ],
 "metadata": {
  "kernelspec": {
   "display_name": "Python 3",
   "language": "python",
   "name": "python3"
  },
  "language_info": {
   "codemirror_mode": {
    "name": "ipython",
    "version": 3
   },
   "file_extension": ".py",
   "mimetype": "text/x-python",
   "name": "python",
   "nbconvert_exporter": "python",
   "pygments_lexer": "ipython3",
   "version": "3.12.1"
  }
 },
 "nbformat": 4,
 "nbformat_minor": 5
}
