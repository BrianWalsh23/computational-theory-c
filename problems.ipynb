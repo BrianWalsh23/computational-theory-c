{
 "cells": [
  {
   "cell_type": "markdown",
   "id": "a33755af",
   "metadata": {},
   "source": [
    "# Computational Theory Assessment"
   ]
  },
  {
   "cell_type": "code",
   "execution_count": 1,
   "id": "533edfcd",
   "metadata": {},
   "outputs": [],
   "source": [
    "import numpy as np"
   ]
  },
  {
   "cell_type": "markdown",
   "id": "a52bf3b8",
   "metadata": {},
   "source": [
    "## Problem 1: Binary Words and Operations\n"
   ]
  },
  {
   "cell_type": "code",
   "execution_count": 2,
   "id": "d1c3e6e1",
   "metadata": {},
   "outputs": [],
   "source": [
    "U32 = np.uint32  # Unasigned 32-bit int\n",
    "\n",
    "def Parity(x: np.uint32, y: np.uint32, z: np.uint32) -> np.uint32:\n",
    "    \"\"\"\n",
    "    Compute the bitwise parity of three 32-bit words.\n",
    "\n",
    "    Each output bit is 1 if an odd number of the corresponding input bits are 1.\n",
    "    Equivalent to: x ^ y ^ z\n",
    "\n",
    "    Args:\n",
    "        x, y, z (np.uint32 or int): Input 32-bit words.\n",
    "\n",
    "    Returns:\n",
    "        np.uint32: Result of parity(x, y, z).\n",
    "\n",
    "    References:\n",
    "        - National Institute of Standards and Technology. Secure Hash Standard (SHS),\n",
    "          FIPS PUB 180-4, 2015. §4.1.2.\n",
    "          https://nvlpubs.nist.gov/nistpubs/FIPS/NIST.FIPS.180-4.pdf\n",
    "        - Menezes, A., van Oorschot, P., & Vanstone, S. (1996).\n",
    "          *Handbook of Applied Cryptography*, CRC Press.\n",
    "          Chapter 9: Hash Functions and Data Integrity.\n",
    "          https://cacr.uwaterloo.ca/hac/\n",
    "    \"\"\"\n",
    "    return U32(x) ^ U32(y) ^ U32(z)"
   ]
  },
  {
   "cell_type": "code",
   "execution_count": 3,
   "id": "36517378",
   "metadata": {},
   "outputs": [
    {
     "name": "stdout",
     "output_type": "stream",
     "text": [
      "x      : 0b1010\n",
      "y      : 0b1100\n",
      "z      : 0b110\n",
      "Parity : 0b0\n"
     ]
    }
   ],
   "source": [
    "# Example test for the Parity function\n",
    "x, y, z = U32(0b1010), U32(0b1100), U32(0b0110)\n",
    "\n",
    "print(\"x      :\", bin(int(x)))\n",
    "print(\"y      :\", bin(int(y)))\n",
    "print(\"z      :\", bin(int(z)))\n",
    "print(\"Parity :\", bin(int(Parity(x,y,z))))  # expected: 0b0 (since XOR cancels all bits)\n",
    "\n"
   ]
  },
  {
   "cell_type": "code",
   "execution_count": 4,
   "id": "88dc15ad",
   "metadata": {},
   "outputs": [],
   "source": [
    "U32 = np.uint32  # Unasigned 32-bit int\n",
    "\n",
    "def Ch(x: np.uint32, y: np.uint32, z: np.uint32) -> np.uint32:\n",
    "    \"\"\"\n",
    "\n",
    "    For each bit position, output the bit from y if the corresponding bit of x is 1,\n",
    "    otherwise the bit from z.\n",
    "\n",
    "    Equivalent to: (x & y) ^ (~x & z)\n",
    "\n",
    "    Args:\n",
    "        x, y, z (np.uint32 or int): Input 32-bit words.\n",
    "\n",
    "    Returns:\n",
    "        np.uint32: Result of Ch(x, y, z).\n",
    "\n",
    "    References:\n",
    "        - National Institute of Standards and Technology. Secure Hash Standard (SHS),\n",
    "          FIPS PUB 180-4, 2015. §4.1.2.\n",
    "          https://nvlpubs.nist.gov/nistpubs/FIPS/NIST.FIPS.180-4.pdf\n",
    "        - Menezes, A., van Oorschot, P., & Vanstone, S. (1996).\n",
    "          *Handbook of Applied Cryptography*, CRC Press.\n",
    "          Chapter 9: Hash Functions and Data Integrity.\n",
    "          https://cacr.uwaterloo.ca/hac/\n",
    "    \"\"\"\n",
    "    x, y, z = U32(x), U32(y), U32(z)\n",
    "    return U32((x & y) ^ (~x & z))"
   ]
  },
  {
   "cell_type": "code",
   "execution_count": 5,
   "id": "2ee9b365",
   "metadata": {},
   "outputs": [
    {
     "name": "stdout",
     "output_type": "stream",
     "text": [
      "x: 0b11110000\n",
      "y: 0b10101010\n",
      "z: 0b1010101\n",
      "Ch(x, y, z): 0b10100101\n"
     ]
    }
   ],
   "source": [
    "# Example test for the Choose function\n",
    "\n",
    "x = U32(0b11110000)\n",
    "y = U32(0b10101010)\n",
    "z = U32(0b01010101)\n",
    "\n",
    "print(\"x:\", bin(int(x)))\n",
    "print(\"y:\", bin(int(y)))\n",
    "print(\"z:\", bin(int(z)))\n",
    "print(\"Ch(x, y, z):\", bin(int(Ch(x, y, z))))\n"
   ]
  },
  {
   "cell_type": "code",
   "execution_count": 6,
   "id": "2c592187",
   "metadata": {},
   "outputs": [],
   "source": [
    "U32 = np.uint32  # Unasigned 32-bit int\n",
    "\n",
    "def Maj(x: np.uint32, y: np.uint32, z: np.uint32) -> np.uint32:\n",
    "    \"\"\"\n",
    "\n",
    "    For each bit position, the output bit is 1 if at least two of\n",
    "    the corresponding input bits (x, y, z) are 1.\n",
    "\n",
    "    Equivalent to: (x & y) ^ (x & z) ^ (y & z)\n",
    "\n",
    "    Args:\n",
    "        x, y, z (np.uint32 or int): Input 32-bit words.\n",
    "\n",
    "    Returns:\n",
    "        np.uint32: Result of Maj(x, y, z).\n",
    "\n",
    "    References:\n",
    "        - National Institute of Standards and Technology. Secure Hash Standard (SHS),\n",
    "          FIPS PUB 180-4, 2015. §4.1.2.\n",
    "          https://nvlpubs.nist.gov/nistpubs/FIPS/NIST.FIPS.180-4.pdf\n",
    "        - Menezes, A., van Oorschot, P., & Vanstone, S. (1996).\n",
    "          *Handbook of Applied Cryptography*, CRC Press.\n",
    "          Chapter 9: Hash Functions and Data Integrity.\n",
    "          https://cacr.uwaterloo.ca/hac/\n",
    "    \"\"\"\n",
    "    x, y, z = U32(x), U32(y), U32(z)\n",
    "    return U32((x & y) ^ (x & z) ^ (y & z))"
   ]
  },
  {
   "cell_type": "code",
   "execution_count": 7,
   "id": "8d53acf9",
   "metadata": {},
   "outputs": [
    {
     "name": "stdout",
     "output_type": "stream",
     "text": [
      "x: 0b11110000\n",
      "y: 0b10101010\n",
      "z: 0b1010101\n",
      "Maj(x, y, z): 0b11110000\n"
     ]
    }
   ],
   "source": [
    "# Example test for the Majority function\n",
    "\n",
    "x = U32(0b11110000)\n",
    "y = U32(0b10101010)\n",
    "z = U32(0b01010101)\n",
    "\n",
    "print(\"x:\", bin(int(x)))\n",
    "print(\"y:\", bin(int(y)))\n",
    "print(\"z:\", bin(int(z)))\n",
    "\n",
    "# For each bit position: output is 1 if at least two inputs have 1.\n",
    "result = Maj(x, y, z)\n",
    "print(\"Maj(x, y, z):\", bin(int(result)))\n",
    "\n",
    "# Expected output: 0b11100000\n",
    "# Reasoning:\n",
    "#   - In the first four bits, at least two inputs are 1 → 1\n",
    "#   - In the last four bits, at most one input is 1 → 0\n"
   ]
  },
  {
   "cell_type": "markdown",
   "id": "4d32e755",
   "metadata": {},
   "source": [
    "ROTR (Right Rotation) Function\n",
    "Helper function performs a 32-bit right rotation.\n",
    "I will be reuse it in the Σ and σ functions in Problems 1.4–1.7.\n"
   ]
  },
  {
   "cell_type": "code",
   "execution_count": null,
   "id": "4ca2c1b9",
   "metadata": {},
   "outputs": [
    {
     "name": "stdout",
     "output_type": "stream",
     "text": [
      "Input : 0b10010000\n",
      "ROTR 1: 0b1001000\n",
      "ROTR 4: 0b1001\n"
     ]
    }
   ],
   "source": [
    "U32 = np.uint32  # Define 32-bit unsigned integer type\n",
    "\n",
    "def rotr(x: np.uint32, n: int) -> np.uint32:\n",
    "    \"\"\"\n",
    "    Perform a right rotation on a 32-bit word.\n",
    "\n",
    "    The bits that fall off the right end are wrapped around to the left side.\n",
    "    Mixes bits without losing information.\n",
    "\n",
    "    Args:\n",
    "        x (np.uint32): 32-bit input word.\n",
    "        n (int): Number of positions to rotate (0-31).\n",
    "\n",
    "    Returns:\n",
    "        np.uint32: Rotated 32-bit word.\n",
    "\n",
    "    Example:\n",
    "        rotr(0b1001, 1) -> 0b1100\n",
    "\n",
    "    References:\n",
    "        - National Institute of Standards and Technology. Secure Hash Standard (SHS),\n",
    "          FIPS PUB 180-4, 2015. §3.2.\n",
    "          https://nvlpubs.nist.gov/nistpubs/FIPS/NIST.FIPS.180-4.pdf\n",
    "        - Menezes, A., van Oorschot, P., & Vanstone, S. (1996).\n",
    "          *Handbook of Applied Cryptography*, CRC Press.\n",
    "          Chapter 9: Hash Functions and Data Integrity.\n",
    "          https://cacr.uwaterloo.ca/hac/\n",
    "    \"\"\"\n",
    "    x = U32(x)\n",
    "    n = n % 32  # make sure rotation stays within 32 bits\n",
    "    return U32((x >> n) | (x << (32 - n)))\n",
    "\n",
    "# Test to confirm it wraps bits correctly\n",
    "#x = U32(0b10010000)\n",
    "#print(\"Input :\", bin(int(x)))\n",
    "#print(\"ROTR 1:\", bin(int(rotr(x, 1))))   # Expect 0b01001000 (bits shift right by 1)\n",
    "#print(\"ROTR 4:\", bin(int(rotr(x, 4))))   # Expect 0b00001001 (wrap-around rotation)\n"
   ]
  },
  {
   "cell_type": "code",
   "execution_count": null,
   "id": "1763a569",
   "metadata": {},
   "outputs": [],
   "source": []
  },
  {
   "cell_type": "markdown",
   "id": "a8e1b144",
   "metadata": {},
   "source": [
    "## Problem 2: Fractional Parts of Cube Roots"
   ]
  },
  {
   "cell_type": "markdown",
   "id": "7c10632a",
   "metadata": {},
   "source": [
    "## Problem 3: Padding"
   ]
  },
  {
   "cell_type": "markdown",
   "id": "182414e5",
   "metadata": {},
   "source": [
    "## Problem 4: Hashes"
   ]
  },
  {
   "cell_type": "markdown",
   "id": "3a4e45bf",
   "metadata": {},
   "source": [
    "## Problem 5: Passwords\n"
   ]
  }
 ],
 "metadata": {
  "kernelspec": {
   "display_name": "Python 3",
   "language": "python",
   "name": "python3"
  },
  "language_info": {
   "codemirror_mode": {
    "name": "ipython",
    "version": 3
   },
   "file_extension": ".py",
   "mimetype": "text/x-python",
   "name": "python",
   "nbconvert_exporter": "python",
   "pygments_lexer": "ipython3",
   "version": "3.12.1"
  }
 },
 "nbformat": 4,
 "nbformat_minor": 5
}
