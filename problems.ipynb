{
 "cells": [
  {
   "cell_type": "markdown",
   "id": "a33755af",
   "metadata": {},
   "source": [
    "# Computational Theory Assessment"
   ]
  },
  {
   "cell_type": "code",
   "execution_count": 13,
   "id": "533edfcd",
   "metadata": {},
   "outputs": [],
   "source": [
    "import numpy as np"
   ]
  },
  {
   "cell_type": "markdown",
   "id": "a52bf3b8",
   "metadata": {},
   "source": [
    "## Problem 1: Binary Words and Operations\n"
   ]
  },
  {
   "cell_type": "code",
   "execution_count": 14,
   "id": "d1c3e6e1",
   "metadata": {},
   "outputs": [],
   "source": [
    "#PROBLEM 1.1\n",
    "\n",
    "U32 = np.uint32  # Unasigned 32-bit int\n",
    "\n",
    "def Parity(x: np.uint32, y: np.uint32, z: np.uint32) -> np.uint32:\n",
    "    \"\"\"\n",
    "    Compute the bitwise parity of three 32-bit words.\n",
    "\n",
    "    Each output bit is 1 if an odd number of the corresponding input bits are 1.\n",
    "    Equivalent to: x ^ y ^ z\n",
    "\n",
    "    Args:\n",
    "        x, y, z (np.uint32 or int): Input 32-bit words.\n",
    "\n",
    "    Returns:\n",
    "        np.uint32: Result of parity(x, y, z).\n",
    "\n",
    "    References:\n",
    "          I took the Parity function from page 10 section 4.1.1\n",
    "        - National Institute of Standards and Technology. Secure Hash Standard (SHS),\n",
    "          FIPS PUB 180-4, 2015. §4.1.2.\n",
    "          https://nvlpubs.nist.gov/nistpubs/FIPS/NIST.FIPS.180-4.pdf\n",
    "        - Menezes, A., van Oorschot, P., & Vanstone, S. (1996).\n",
    "          *Handbook of Applied Cryptography*, CRC Press.\n",
    "          Chapter 9: Hash Functions and Data Integrity.\n",
    "          https://cacr.uwaterloo.ca/hac/\n",
    "    \"\"\"\n",
    "    return U32(x) ^ U32(y) ^ U32(z)"
   ]
  },
  {
   "cell_type": "code",
   "execution_count": 15,
   "id": "36517378",
   "metadata": {},
   "outputs": [
    {
     "name": "stdout",
     "output_type": "stream",
     "text": [
      "x: 0b1010\n",
      "y: 0b1100\n",
      "z: 0b110\n",
      "Parity: 0b0\n"
     ]
    }
   ],
   "source": [
    "# Example test for the Parity function\n",
    "x, y, z = U32(0b1010), U32(0b1100), U32(0b0110)\n",
    "\n",
    "print(\"x:\", bin(int(x)))\n",
    "print(\"y:\", bin(int(y)))\n",
    "print(\"z:\", bin(int(z)))\n",
    "print(\"Parity:\", bin(int(Parity(x,y,z))))  # expected: 0b0 (since XOR cancels all bits)\n",
    "\n"
   ]
  },
  {
   "cell_type": "code",
   "execution_count": 16,
   "id": "88dc15ad",
   "metadata": {},
   "outputs": [],
   "source": [
    "#PROBLEM 1.2\n",
    "\n",
    "U32 = np.uint32  # Unasigned 32-bit int\n",
    "\n",
    "def Ch(x: np.uint32, y: np.uint32, z: np.uint32) -> np.uint32:\n",
    "    \"\"\"\n",
    "\n",
    "    For each bit position, output the bit from y if the corresponding bit of x is 1,\n",
    "    otherwise the bit from z.\n",
    "\n",
    "    Equivalent to: (x & y) ^ (~x & z)\n",
    "\n",
    "    Args:\n",
    "        x, y, z (np.uint32 or int): Input 32-bit words.\n",
    "\n",
    "    Returns:\n",
    "        np.uint32: Result of Ch(x, y, z).\n",
    "\n",
    "    References:\n",
    "          I took the Choose function from page 10 section 4.1.1\n",
    "        - National Institute of Standards and Technology. Secure Hash Standard (SHS),\n",
    "          FIPS PUB 180-4, 2015. §4.1.2.\n",
    "          https://nvlpubs.nist.gov/nistpubs/FIPS/NIST.FIPS.180-4.pdf\n",
    "        - Menezes, A., van Oorschot, P., & Vanstone, S. (1996).\n",
    "          *Handbook of Applied Cryptography*, CRC Press.\n",
    "          Chapter 9: Hash Functions and Data Integrity.\n",
    "          https://cacr.uwaterloo.ca/hac/\n",
    "    \"\"\"\n",
    "    x, y, z = U32(x), U32(y), U32(z)\n",
    "    return U32((x & y) ^ (~x & z))"
   ]
  },
  {
   "cell_type": "code",
   "execution_count": 17,
   "id": "2ee9b365",
   "metadata": {},
   "outputs": [
    {
     "name": "stdout",
     "output_type": "stream",
     "text": [
      "x: 0b11110000\n",
      "y: 0b10101010\n",
      "z: 0b1010101\n",
      "Ch(x, y, z): 0b10100101\n"
     ]
    }
   ],
   "source": [
    "# Example test for the Choose function\n",
    "\n",
    "x = U32(0b11110000)\n",
    "y = U32(0b10101010)\n",
    "z = U32(0b01010101)\n",
    "\n",
    "print(\"x:\", bin(int(x)))\n",
    "print(\"y:\", bin(int(y)))\n",
    "print(\"z:\", bin(int(z)))\n",
    "print(\"Ch(x, y, z):\", bin(int(Ch(x, y, z))))\n"
   ]
  },
  {
   "cell_type": "code",
   "execution_count": 18,
   "id": "2c592187",
   "metadata": {},
   "outputs": [],
   "source": [
    "#PROBLEM 1.3\n",
    "\n",
    "U32 = np.uint32  # Unasigned 32-bit int\n",
    "\n",
    "def Maj(x: np.uint32, y: np.uint32, z: np.uint32) -> np.uint32:\n",
    "    \"\"\"\n",
    "\n",
    "    For each bit position, the output bit is 1 if at least two of\n",
    "    the corresponding input bits (x, y, z) are 1.\n",
    "\n",
    "    Equivalent to: (x & y) ^ (x & z) ^ (y & z)\n",
    "\n",
    "    Args:\n",
    "        x, y, z (np.uint32 or int): Input 32-bit words.\n",
    "\n",
    "    Returns:\n",
    "        np.uint32: Result of Maj(x, y, z).\n",
    "\n",
    "    References:\n",
    "          I took the Majority function from page 10 section 4.1.1\n",
    "        - National Institute of Standards and Technology. Secure Hash Standard (SHS),\n",
    "          FIPS PUB 180-4, 2015. §4.1.2.\n",
    "          https://nvlpubs.nist.gov/nistpubs/FIPS/NIST.FIPS.180-4.pdf\n",
    "        - Menezes, A., van Oorschot, P., & Vanstone, S. (1996).\n",
    "          *Handbook of Applied Cryptography*, CRC Press.\n",
    "          Chapter 9: Hash Functions and Data Integrity.\n",
    "          https://cacr.uwaterloo.ca/hac/\n",
    "    \"\"\"\n",
    "    x, y, z = U32(x), U32(y), U32(z)\n",
    "    return U32((x & y) ^ (x & z) ^ (y & z))"
   ]
  },
  {
   "cell_type": "code",
   "execution_count": 19,
   "id": "8d53acf9",
   "metadata": {},
   "outputs": [
    {
     "name": "stdout",
     "output_type": "stream",
     "text": [
      "x: 0b11110000\n",
      "y: 0b10101010\n",
      "z: 0b1010101\n",
      "Maj(x, y, z): 0b11110000\n"
     ]
    }
   ],
   "source": [
    "# Example test for the Majority function\n",
    "\n",
    "x = U32(0b11110000)\n",
    "y = U32(0b10101010)\n",
    "z = U32(0b01010101)\n",
    "\n",
    "print(\"x:\", bin(int(x)))\n",
    "print(\"y:\", bin(int(y)))\n",
    "print(\"z:\", bin(int(z)))\n",
    "\n",
    "# For each bit position: output is 1 if at least two inputs have 1.\n",
    "result = Maj(x, y, z)\n",
    "print(\"Maj(x, y, z):\", bin(int(result)))\n",
    "\n",
    "# Expected output: 0b11100000\n",
    "# Reasoning:\n",
    "#   - In the first four bits, at least two inputs are 1 → 1\n",
    "#   - In the last four bits, at most one input is 1 → 0\n"
   ]
  },
  {
   "cell_type": "markdown",
   "id": "4d32e755",
   "metadata": {},
   "source": [
    "Helper Functions — ROTR and SHR\n",
    "These two reusable helper functions perform 32-bit bitwise operations used throughout the SHA-256 algorithm:\n",
    "- rotr(x, n): rotates bits to the right (wraps around)\n",
    "- shr(x, n): shifts bits right (fills with zeros)\n",
    "They are used in the Σ (big sigma) and σ (small sigma) functions across Problems 1.4–1.7.\n"
   ]
  },
  {
   "cell_type": "code",
   "execution_count": 20,
   "id": "4ca2c1b9",
   "metadata": {},
   "outputs": [],
   "source": [
    "U32 = np.uint32  # Define 32-bit unsigned integer type\n",
    "\n",
    "def rotr(x: np.uint32, n: int) -> np.uint32:\n",
    "    \"\"\"\n",
    "    Perform a right rotation on a 32-bit word.\n",
    "\n",
    "    The bits that fall off the right end are wrapped around to the left side.\n",
    "    Mixes bits without losing information.\n",
    "\n",
    "    Args:\n",
    "        x (np.uint32): 32-bit input word.\n",
    "        n (int): Number of positions to rotate (0-31).\n",
    "\n",
    "    Returns:\n",
    "        np.uint32: Rotated 32-bit word.\n",
    "\n",
    "    Example:\n",
    "        rotr(0b1001, 1) -> 0b1100\n",
    "\n",
    "    References:\n",
    "          I took the ROTR n(x) operation from page 5, section 2.2.2\n",
    "        - National Institute of Standards and Technology. Secure Hash Standard (SHS),\n",
    "          FIPS PUB 180-4, 2015. §3.2.\n",
    "          https://nvlpubs.nist.gov/nistpubs/FIPS/NIST.FIPS.180-4.pdf\n",
    "        - Menezes, A., van Oorschot, P., & Vanstone, S. (1996).\n",
    "          *Handbook of Applied Cryptography*, CRC Press.\n",
    "          Chapter 9: Hash Functions and Data Integrity.\n",
    "          https://cacr.uwaterloo.ca/hac/\n",
    "    \"\"\"\n",
    "    x = U32(x)\n",
    "    n = n % 32  # make sure rotation stays within 32 bits\n",
    "    return U32((x >> n) | (x << (32 - n)))\n",
    "\n",
    "# Test to confirm it wraps bits correctly\n",
    "#x = U32(0b10010000)\n",
    "#print(\"Input :\", bin(int(x)))\n",
    "#print(\"ROTR 1:\", bin(int(rotr(x, 1))))   # Expect 0b01001000 (bits shift right by 1)\n",
    "#print(\"ROTR 4:\", bin(int(rotr(x, 4))))   # Expect 0b00001001 (wrap-around rotation)\n",
    "\n",
    "def shr(x: np.uint32, n: int) -> np.uint32:\n",
    "    \"\"\"\n",
    "    Perform a right shift on a 32-bit word.\n",
    "\n",
    "    Bits shifted out on the right are discarded,\n",
    "    and zeros fill from the left side.\n",
    "\n",
    "    Args:\n",
    "        x (np.uint32): 32-bit input word.\n",
    "        n (int): Number of bits to shift (0-31).\n",
    "\n",
    "    Returns:\n",
    "        np.uint32: Shifted 32-bit word.\n",
    "\n",
    "    References:\n",
    "          I took the SHR n(x) operation from page 6 section 2.2.2\n",
    "        - National Institute of Standards and Technology. Secure Hash Standard (SHS),\n",
    "          FIPS PUB 180-4, 2015. §3.2.\n",
    "          https://nvlpubs.nist.gov/nistpubs/FIPS/NIST.FIPS.180-4.pdf\n",
    "        - Menezes, A., van Oorschot, P., & Vanstone, S. (1996).\n",
    "          *Handbook of Applied Cryptography*, CRC Press.\n",
    "          Chapter 9: Hash Functions and Data Integrity.\n",
    "          https://cacr.uwaterloo.ca/hac/\n",
    "    \"\"\"\n",
    "    return U32(x) >> U32(n)\n",
    "\n",
    "# Test to confirm shr() helper function\n",
    "\n",
    "\n",
    "#x = U32(0b10010000)   # Input\n",
    "#print(\"Input :\", bin(int(x)))\n",
    "\n",
    "# Test 1: shift right by 1\n",
    "# Expect 0b01001000 (the rightmost bit 0 falls off, new 0 enters on left)\n",
    "#print(\"SHR 1:\", bin(int(shr(x, 1))))\n",
    "\n",
    "# Test 2: shift right by 4\n",
    "# Expect 0b00001001 (the four rightmost bits drop, zeros fill in)\n",
    "#print(\"SHR 4:\", bin(int(shr(x, 4))))\n",
    "\n",
    "# Test 3: shift right by 8 (entire byte moves out)\n",
    "# Expect 0b0 (all bits dropped)\n",
    "#print(\"SHR 8:\", bin(int(shr(x, 8))))\n",
    "\n",
    "# !!! Remember the tests don't fill out all 8 bits 1001 is 00001001\n"
   ]
  },
  {
   "cell_type": "code",
   "execution_count": 21,
   "id": "1763a569",
   "metadata": {},
   "outputs": [],
   "source": [
    "#PROBLEM 1.4\n",
    "\n",
    "U32 = np.uint32\n",
    "\n",
    "def Sigma0(x: np.uint32) -> np.uint32:\n",
    "    \"\"\"\n",
    "    Σ₀(x) = ROTR²(x) ^ ROTR¹³(x) ^ ROTR²²(x)\n",
    "\n",
    "    Big Sigma 0.\n",
    "    Performs three right rotations and XORs them together to provide strong bit diffusion.\n",
    "\n",
    "    Args:\n",
    "        x (np.uint32): 32-bit input word.\n",
    "\n",
    "    Returns:\n",
    "        np.uint32: Result of Σ₀(x).\n",
    "\n",
    "    References:\n",
    "          This reference showed me the exact amounts I needed to rotate. Page 10, section 4.1.2\n",
    "        - National Institute of Standards and Technology. Secure Hash Standard (SHS),\n",
    "          FIPS PUB 180-4, 2015. §4.1.2.\n",
    "          https://nvlpubs.nist.gov/nistpubs/FIPS/NIST.FIPS.180-4.pdf\n",
    "        - Menezes, A., van Oorschot, P., & Vanstone, S. (1996).\n",
    "          *Handbook of Applied Cryptography*, CRC Press.\n",
    "          Chapter 9: Hash Functions and Data Integrity.\n",
    "          https://cacr.uwaterloo.ca/hac/\n",
    "    \"\"\"\n",
    "    x = U32(x)\n",
    "    return U32(rotr(x, 2) ^ rotr(x, 13) ^ rotr(x, 22)) # I took these rotates from page 10 of the Secure Hash Standard. Section 4.1.2\n",
    "\n",
    "\n",
    "#PROBLEM 1.5\n",
    "\n",
    "def Sigma1(x: np.uint32) -> np.uint32:\n",
    "    \"\"\"\n",
    "    Σ₁(x) = ROTR⁶(x) ^ ROTR¹¹(x) ^ ROTR²⁵(x)\n",
    "\n",
    "    Big Sigma 1 function.\n",
    "    Applies multiple rotations and XORs to further randomize bit positions.\n",
    "\n",
    "    Args:\n",
    "        x (np.uint32): 32-bit input word.\n",
    "\n",
    "    Returns:\n",
    "        np.uint32: Result of Σ₁(x).\n",
    "\n",
    "    References:\n",
    "          This reference showed me the exact amounts I needed to rotate. Page 10, section 4.1.2\n",
    "        - National Institute of Standards and Technology. Secure Hash Standard (SHS),\n",
    "          FIPS PUB 180-4, 2015. §4.1.2.\n",
    "          https://nvlpubs.nist.gov/nistpubs/FIPS/NIST.FIPS.180-4.pdf\n",
    "        - Menezes, A., van Oorschot, P., & Vanstone, S. (1996).\n",
    "          *Handbook of Applied Cryptography*, CRC Press.\n",
    "          Chapter 9: Hash Functions and Data Integrity.\n",
    "          https://cacr.uwaterloo.ca/hac/\n",
    "    \"\"\"\n",
    "    x = U32(x)\n",
    "    return U32(rotr(x, 6) ^ rotr(x, 11) ^ rotr(x, 25)) # I took these rotates from page 10 of the Secure Hash Standard. Section 4.1.2"
   ]
  },
  {
   "cell_type": "code",
   "execution_count": 22,
   "id": "4fa2715e",
   "metadata": {},
   "outputs": [
    {
     "name": "stdout",
     "output_type": "stream",
     "text": [
      "Input: 0x12345678\n",
      "Σ₀(x): 0x66146474\n",
      "Σ₁(x): 0x3561abda\n"
     ]
    }
   ],
   "source": [
    "# Example tests for Big Sigma functions 0 and 1\n",
    "w = U32(0x12345678)\n",
    "\n",
    "print(\"Input:\", hex(int(w)))\n",
    "print(\"Σ₀(x):\", hex(int(Sigma0(w))))\n",
    "print(\"Σ₁(x):\", hex(int(Sigma1(w))))"
   ]
  },
  {
   "cell_type": "code",
   "execution_count": 23,
   "id": "bd483c9d",
   "metadata": {},
   "outputs": [],
   "source": [
    "#PROBLEM 1.6\n",
    "\n",
    "U32 = np.uint32\n",
    "\n",
    "def sigma0(x: np.uint32) -> np.uint32:\n",
    "    \"\"\"\n",
    "    σ₀(x) = ROTR⁷(x) ^ ROTR¹⁸(x) ^ SHR³(x)\n",
    "\n",
    "    Small sigma 0 function.\n",
    "    Combines rotations and a right shift to spread bit patterns.\n",
    "\n",
    "    Args:\n",
    "        x (np.uint32): 32-bit input word.\n",
    "\n",
    "    Returns:\n",
    "        np.uint32: Result of σ₀(x).\n",
    "\n",
    "    References:\n",
    "          This reference showed me the exact amounts I needed to rotate and shift right. Page 10, section 4.1.2\n",
    "        - National Institute of Standards and Technology. Secure Hash Standard (SHS),\n",
    "          FIPS PUB 180-4, 2015. §4.1.2.\n",
    "          https://nvlpubs.nist.gov/nistpubs/FIPS/NIST.FIPS.180-4.pdf\n",
    "        - Menezes, A., van Oorschot, P., & Vanstone, S. (1996).\n",
    "          *Handbook of Applied Cryptography*, CRC Press.\n",
    "          Chapter 9: Hash Functions and Data Integrity.\n",
    "          https://cacr.uwaterloo.ca/hac/\n",
    "    \"\"\"\n",
    "    x = U32(x)\n",
    "    return U32(rotr(x, 7) ^ rotr(x, 18) ^ shr(x, 3)) # I took these rotates and shift right from page 10 of the Secure Hash Standard. Section 4.1.2\n",
    "\n",
    "#PROBLEM 1.7\n",
    "\n",
    "def sigma1(x: np.uint32) -> np.uint32:\n",
    "    \"\"\"\n",
    "    σ₁(x) = ROTR¹⁷(x) ^ ROTR¹⁹(x) ^ SHR¹⁰(x)\n",
    "\n",
    "    Small sigma 1 function.\n",
    "    Combines rotations and a right shift to spread bit patterns.\n",
    "\n",
    "    Args:\n",
    "        x (np.uint32): 32-bit input word.\n",
    "\n",
    "    Returns:\n",
    "        np.uint32: Result of σ₁(x).\n",
    "\n",
    "    References:\n",
    "          This reference showed me the exact amounts I needed to rotate and shift right. Page 10, section 4.1.2\n",
    "        - National Institute of Standards and Technology. Secure Hash Standard (SHS),\n",
    "          FIPS PUB 180-4, 2015. §4.1.2.\n",
    "          https://nvlpubs.nist.gov/nistpubs/FIPS/NIST.FIPS.180-4.pdf\n",
    "        - Menezes, A., van Oorschot, P., & Vanstone, S. (1996).\n",
    "          *Handbook of Applied Cryptography*, CRC Press.\n",
    "          Chapter 9: Hash Functions and Data Integrity.\n",
    "          https://cacr.uwaterloo.ca/hac/\n",
    "    \"\"\"\n",
    "    x = U32(x)\n",
    "    return U32(rotr(x, 17) ^ rotr(x, 19) ^ shr(x, 10)) # I took these rotates and shift right from page 10 of the Secure Hash Standard. Section 4.1.2"
   ]
  },
  {
   "cell_type": "code",
   "execution_count": 24,
   "id": "66b0eaef",
   "metadata": {},
   "outputs": [
    {
     "name": "stdout",
     "output_type": "stream",
     "text": [
      "Input: 0x12345678\n",
      "σ₀(x): 0xe7fce6ee\n",
      "σ₁(x): 0xa1f78649\n"
     ]
    }
   ],
   "source": [
    "# Example tests for Small sigma 0 and 1\n",
    "w = U32(0x12345678)\n",
    "\n",
    "print(\"Input:\", hex(int(w)))\n",
    "\n",
    "print(\"σ₀(x):\", hex(int(sigma0(w))))\n",
    "print(\"σ₁(x):\", hex(int(sigma1(w))))"
   ]
  },
  {
   "cell_type": "markdown",
   "id": "a8e1b144",
   "metadata": {},
   "source": [
    "## Problem 2: Fractional Parts of Cube Roots"
   ]
  },
  {
   "cell_type": "code",
   "execution_count": null,
   "id": "869ab36c",
   "metadata": {},
   "outputs": [],
   "source": [
    "import numpy as np\n",
    "\n",
    "def primes(n: int) -> np.ndarray:\n",
    "    \"\"\"\n",
    "    Generate the first n prime numbers using a trial division algorithm.\n",
    "\n",
    "    Each number starting from 2 is tested for divisibility by all previously found primes.\n",
    "    This process continues until n primes are collected.\n",
    "\n",
    "    Args:\n",
    "        n (int): Number of prime numbers to generate.\n",
    "\n",
    "    Returns:\n",
    "        np.ndarray: Array of the first n prime numbers as 32-bit unsigned integers.\n",
    "\n",
    "    References:\n",
    "        - National Institute of Standards and Technology. Secure Hash Standard (SHS),\n",
    "          FIPS PUB 180-4, 2015, §4.2.2 (p. 11).\n",
    "          States that SHA-256 constants are derived from the first 64 prime numbers.\n",
    "          Available at: https://nvlpubs.nist.gov/nistpubs/FIPS/NIST.FIPS.180-4.pdf\n",
    "\n",
    "        - Menezes, A., van Oorschot, P., & Vanstone, S. (1996).\n",
    "          *Handbook of Applied Cryptography*, CRC Press.\n",
    "          Chapter 9, Section 9.4 (pp. 352-354).\n",
    "          Discusses the use of prime numbers in cryptographic constant generation.\n",
    "          Available at: https://cacr.uwaterloo.ca/hac/\n",
    "    \"\"\"\n",
    "\n",
    "    primes_list = []        # Store prime numbers found so far\n",
    "    num = 2                 # Start checking from the first prime number (2)\n",
    "\n",
    "    # Continue until we find 'n' prime numbers\n",
    "    while len(primes_list) < n:\n",
    "        # Check if 'num' is divisible by any smaller prime\n",
    "        for p in primes_list:\n",
    "            if num % p == 0:  # If divisible, not a prime\n",
    "                break\n",
    "        else:\n",
    "            # If not divisible by any previous primes, it's a new prime\n",
    "            primes_list.append(num)\n",
    "\n",
    "        num += 1  # Move to the next number and test again\n",
    "\n",
    "    # Convert the list of primes into a NumPy array of 32-bit integers\n",
    "    return np.array(primes_list, dtype=np.uint32)\n"
   ]
  },
  {
   "cell_type": "code",
   "execution_count": null,
   "id": "e1a79bc3",
   "metadata": {},
   "outputs": [
    {
     "name": "stdout",
     "output_type": "stream",
     "text": [
      "[ 2  3  5  7 11 13 17 19 23 29]\n"
     ]
    }
   ],
   "source": [
    "# Generate and print the first 10 prime numbers\n",
    "print(primes(10))\n",
    "\n",
    "# Expected result [ 2  3  5  7 11 13 17 19 23 29]"
   ]
  },
  {
   "cell_type": "markdown",
   "id": "7c10632a",
   "metadata": {},
   "source": [
    "## Problem 3: Padding"
   ]
  },
  {
   "cell_type": "markdown",
   "id": "182414e5",
   "metadata": {},
   "source": [
    "## Problem 4: Hashes"
   ]
  },
  {
   "cell_type": "markdown",
   "id": "3a4e45bf",
   "metadata": {},
   "source": [
    "## Problem 5: Passwords\n"
   ]
  }
 ],
 "metadata": {
  "kernelspec": {
   "display_name": "Python 3",
   "language": "python",
   "name": "python3"
  },
  "language_info": {
   "codemirror_mode": {
    "name": "ipython",
    "version": 3
   },
   "file_extension": ".py",
   "mimetype": "text/x-python",
   "name": "python",
   "nbconvert_exporter": "python",
   "pygments_lexer": "ipython3",
   "version": "3.12.1"
  }
 },
 "nbformat": 4,
 "nbformat_minor": 5
}
