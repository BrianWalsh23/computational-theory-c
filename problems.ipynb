{
 "cells": [
  {
   "cell_type": "markdown",
   "id": "a33755af",
   "metadata": {},
   "source": [
    "# Computational Theory Assessment"
   ]
  },
  {
   "cell_type": "code",
   "execution_count": 1,
   "id": "533edfcd",
   "metadata": {},
   "outputs": [],
   "source": [
    "import numpy as np"
   ]
  },
  {
   "cell_type": "markdown",
   "id": "a52bf3b8",
   "metadata": {},
   "source": [
    "## Problem 1: Binary Words and Operations\n"
   ]
  },
  {
   "cell_type": "code",
   "execution_count": 2,
   "id": "d1c3e6e1",
   "metadata": {},
   "outputs": [],
   "source": [
    "U32 = np.uint32  # convenience alias\n",
    "\n",
    "def Parity(x: np.uint32, y: np.uint32, z: np.uint32) -> np.uint32:\n",
    "    \"\"\"\n",
    "    Compute the bitwise parity of three 32-bit words.\n",
    "\n",
    "    Each output bit is 1 if an odd number of the corresponding input bits are 1.\n",
    "    Equivalent to: x ^ y ^ z\n",
    "\n",
    "    Args:\n",
    "        x, y, z (np.uint32 or int): Input 32-bit words.\n",
    "\n",
    "    Returns:\n",
    "        np.uint32: Result of parity(x, y, z).\n",
    "\n",
    "    References:\n",
    "        - National Institute of Standards and Technology. Secure Hash Standard (SHS),\n",
    "          FIPS PUB 180-4, 2015. §4.1.2.\n",
    "          https://nvlpubs.nist.gov/nistpubs/FIPS/NIST.FIPS.180-4.pdf\n",
    "        - Menezes, A., van Oorschot, P., & Vanstone, S. (1996).\n",
    "          *Handbook of Applied Cryptography*, CRC Press.\n",
    "          Chapter 9: Hash Functions and Data Integrity.\n",
    "          https://cacr.uwaterloo.ca/hac/\n",
    "    \"\"\"\n",
    "    return U32(x) ^ U32(y) ^ U32(z)"
   ]
  },
  {
   "cell_type": "code",
   "execution_count": 3,
   "id": "36517378",
   "metadata": {},
   "outputs": [
    {
     "name": "stdout",
     "output_type": "stream",
     "text": [
      "x      : 0b1010\n",
      "y      : 0b1100\n",
      "z      : 0b110\n",
      "Parity : 0b0\n"
     ]
    }
   ],
   "source": [
    "# Example values\n",
    "x, y, z = U32(0b1010), U32(0b1100), U32(0b0110)\n",
    "\n",
    "print(\"x      :\", bin(int(x)))\n",
    "print(\"y      :\", bin(int(y)))\n",
    "print(\"z      :\", bin(int(z)))\n",
    "print(\"Parity :\", bin(int(Parity(x,y,z))))  # expected: 0b0000 (since XOR cancels all bits)\n",
    "\n"
   ]
  },
  {
   "cell_type": "markdown",
   "id": "a8e1b144",
   "metadata": {},
   "source": [
    "## Problem 2: Fractional Parts of Cube Roots"
   ]
  },
  {
   "cell_type": "markdown",
   "id": "7c10632a",
   "metadata": {},
   "source": [
    "## Problem 3: Padding"
   ]
  },
  {
   "cell_type": "markdown",
   "id": "182414e5",
   "metadata": {},
   "source": [
    "## Problem 4: Hashes"
   ]
  },
  {
   "cell_type": "markdown",
   "id": "3a4e45bf",
   "metadata": {},
   "source": [
    "## Problem 5: Passwords\n"
   ]
  }
 ],
 "metadata": {
  "kernelspec": {
   "display_name": "Python 3",
   "language": "python",
   "name": "python3"
  },
  "language_info": {
   "codemirror_mode": {
    "name": "ipython",
    "version": 3
   },
   "file_extension": ".py",
   "mimetype": "text/x-python",
   "name": "python",
   "nbconvert_exporter": "python",
   "pygments_lexer": "ipython3",
   "version": "3.12.1"
  }
 },
 "nbformat": 4,
 "nbformat_minor": 5
}
