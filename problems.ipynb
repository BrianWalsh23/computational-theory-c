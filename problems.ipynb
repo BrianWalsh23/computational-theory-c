{
 "cells": [
  {
   "cell_type": "markdown",
   "id": "a33755af",
   "metadata": {},
   "source": [
    "# Computational Theory Assessment"
   ]
  },
  {
   "cell_type": "markdown",
   "id": "a52bf3b8",
   "metadata": {},
   "source": [
    "## Problem 1: Binary Words and Operations\n"
   ]
  },
  {
   "cell_type": "markdown",
   "id": "a8e1b144",
   "metadata": {},
   "source": [
    "## Problem 2: Fractional Parts of Cube Roots"
   ]
  },
  {
   "cell_type": "markdown",
   "id": "7c10632a",
   "metadata": {},
   "source": [
    "## Problem 3: Padding"
   ]
  },
  {
   "cell_type": "markdown",
   "id": "182414e5",
   "metadata": {},
   "source": [
    "## Problem 4: Hashes"
   ]
  },
  {
   "cell_type": "markdown",
   "id": "3a4e45bf",
   "metadata": {},
   "source": [
    "## Problem 5: Passwords\n"
   ]
  }
 ],
 "metadata": {
  "language_info": {
   "name": "python"
  }
 },
 "nbformat": 4,
 "nbformat_minor": 5
}
